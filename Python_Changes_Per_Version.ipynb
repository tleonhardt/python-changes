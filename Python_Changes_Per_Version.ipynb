{
 "cells": [
  {
   "cell_type": "markdown",
   "id": "696fcc22-d72b-415f-8009-1b0b1441fec9",
   "metadata": {},
   "source": [
    "# Summary of major features and changes released with each Python version\n",
    "\n",
    "This notebook contains a summary of major changes released with each Python version. It is opinioned based on my personal experience using each version of Python. I may skip over things I haven't personally found useful or interesting. I'm also skipping over a slew of more minor changes present in each release.\n",
    "\n",
    "For a quick overview of release dates and end-of-life (EOL) dates, see the [Status of Python versions](https://devguide.python.org/versions/)"
   ]
  },
  {
   "cell_type": "markdown",
   "id": "ebc1004f-ace6-435a-9186-ae38f8dcd5a0",
   "metadata": {},
   "source": [
    "## Python 3.6 (Release: 2016-12-23, EOL: 2021-12-23)\n",
    "\n",
    "For full details see [What's New in Python 3.6](https://docs.python.org/3/whatsnew/3.6.html).\n",
    "\n",
    "### Major new features in 3.6\n",
    "- [Formatted string literals](https://docs.python.org/3/tutorial/inputoutput.html#formatted-string-literals) (better known as `f-strings`)\n",
    "- [Underscores in numeric literals](https://docs.python.org/3/whatsnew/3.6.html#whatsnew36-pep515)\n",
    "- New [secrets](https://docs.python.org/3/library/secrets.html) library for generating cryptographically-secure random numbers\n",
    "\n",
    "### Improvements in 3.6\n",
    "\n",
    "- [Syntax for variable annotations](https://docs.python.org/3/whatsnew/3.6.html#whatsnew36-pep526)\n",
    "- New [dict implementation](https://docs.python.org/3/whatsnew/3.6.html#whatsnew36-compactdict) using 20 to 25% less memory\n",
    "- [asyncio](https://docs.python.org/3/library/asyncio.html#module-asyncio) module had a ton of improvements and is officially released; [asyncore](https://docs.python.org/3.11/library/asyncore.html) is deprecated (`asyncore` is finally removed in Python 3.12)"
   ]
  },
  {
   "cell_type": "code",
   "execution_count": 1,
   "id": "e3c6a471-355b-47fb-978b-2e0ade34d0f2",
   "metadata": {},
   "outputs": [
    {
     "name": "stdout",
     "output_type": "stream",
     "text": [
      "token bytes:\n",
      "b'z&+}\\'U\\xc3\\xcc\\x8ar\\x81\\xe1\\xa6D\\r>s?\\xc1\\x03`\\xb2\\x9bM\\xa7\\xd87\\xa3\\xc8\\x8c\\x1c\\xd7\\xe5p]X,\\xc8\\xcdq\\xcb\\x8d@\\xa6(\\xf6B\\xbd\\x8b\\xc4\\xe7\\xf5\\xe8\\xbb*\\xb5\\xea\\xf9\\xd8 \\x9dR\\xa6o\\xbam\\xc9\\xe2\\xb7\\x8fJS\\xa6x\\xf0\\xde#1A<\\xeb8\\x018\\xf7\\x8csJ\\xdc=\\x1a!dvE\\xb7\\xdb,\\x0e\\xa6x@\\xe3TRxV\\xb4\\x00\\'\\x85\\xa1\\x8d\\xed\\xae\\x84TS\\xfc\\xce\\xd2\\xd6|\\x01\\r\\xce\\xa9c\\xf3D7\\xa3\\x10\\xfd\\x8a\\x0f\\xd2\\xa9\\x90\\xe2\\xf9\\xab\\x16b\\xa1\\x99A\\xad\\x92\\x84\\xc0/\\xf1d\\xed\\xb3\\xb4\\x91?0\\xc8\\x94u\\xa8_\\x13\\xf8\"\\xb9\\xc6\\xc20\\xf8&\\x03\\xc0\\x8dmNp\\xfe\\xf3\\xcf*2<A\\xb1\\x9b\\xe0\\xdf\\x17\\x871\\x8f/5\\nN\\x8a\\xe0\"\\xb5\\x1d.i\\x9fh\\xd0-8\\xf8\\x16\\xc3\\x99\\xfd\\x99o\\x82\\xca\\xfc\\xa2k\\xac\\xfc\\xd7\\xad\\xc8X\\xcc\\x08\\xac=\\xdf\\xbe\\xa9\\xa2\\x0f\\x9a\\xbfff$WNt\\xd6_\\x916\\xcf\\xdf\\xc7\\xd0\\x82\\\\\\xb6\\xa2\\x98\\xd1\\t\\t\\xbd#\\xc2$$\\xec\\x94\\x01\\x05\\xb8\\xa4\\xbd\\xd8\\xfc\\x13\\xf82;\\xf6\\xb1?}\\xb7\\xe9_r\\xfd\\x1bJ\\r\\xb4\\xa0\"E\\xe2AG\\tU\\xb9k\\xe9L\\x00=\\x85\\xd5\\x8d\\xa4`\\xfdbm\\x82ry\\x19\\x1e\\x99&\\xed_\\xa7A\\x18q\\x9d\\x91\\x82~%\\xb8\\xc1J\\x8dH\\x1b8\\xfb\\x00\\x1c\\x9f\\xd6\\x0eQa\\x8e\\x986z\\xf5l\\xfe\\xed\\x1a_\\xfc;\\x11P?h\\xe2jP$\\xe1\\xe4\\xa6\\x8f\\xfa\\x8csq\\xc5\\x96\\xb0^\\x14\\x113\\x8b\\xc99\\rs\\xda\\n/\\xaf\\xb5=\\xf1\\x1c<\\xdd\\x1e\\xb7\\xb5\\xe0\\xe3\\x83\\x99\\xefyE\\xc2G8\\xda\\xef\\xd8CP\\xa3\\x1e\\xad\\x97\\xd3\\x9b\\xee\\x9a\\x9f\\t\\xd2o,\\x03,\\x11_&\\x8e\\x0c\\xac\\x04{\\xca\\xda\\xa7\\x88%YX\\xf5E\\x00(@\\x86\\x82\\xc0\\xf4\\x8e\\t\\xe2e\\xda\\xb8\\x8d\\xf3\\xdeQBH\\xe9\\xf3r{o\\x14>\\x10\\xff\\x80\\xad4\\xbafdu\\x83%\\x1b@,\\xc0Ip\\x00\\xdef\\xdb\\xe8\\x19\\xfe\\x85\\xdbSQ\\x9cN\\xd9\\xf3\\xb0\\xb7\\xb7o]*\\xab\\xe8\\xe9\\xed{\\xa5v\\x811\\x0f-\\xf1\\xa4\\x9d\\xf2[:E\\xa2H\\x9dT\\xb7)m\\x9fe\\xfe\\x0c\\xaeZ\\xd0\\x9fT\\xc6\\x8e\\x96\\xa1~uI\\xfe\\x94\\xd5@X\\xe6};\\xa5nuG\\xe03\\xde\\x1d\\xd2\\xbfL\\x14\\xf1\\x9a`\\x82\\xcc\\xda\\xe8(\\xf1\\xc1n\\x13\\x15\\x99\\\\(\\xde\\xeb\\xfb\\xcaJ\\xfe\\xea\\xd8o\\xee\\xcdp\\xe6\\xf7N|\\xb2&\\x93\\xcf\\xf9\\x07\\xdf\\x0c\\xfb\\xd7\\xf8`R\\xaaF1\\xf1i\\xbe\\x14\\xbc\\x90\\xf5 \\x8b\\xb7]\\xf1Q\\xa2/V0\\x93\\xfba\\xcaA\\x10bwK|\\x1a\\xb7\\x8a\\x0e\\x85\\x99\\x7f\\xa3\\x1e\\xfc\\x05n\\xf2\\x04\\xa8\\xf0\\xbc\\xb5\\xc4Q\\x95\\xc9\\xd5\\xe2\\n\\x03\\xca\\xd5\\x03\\xa1],\\xb8\\xc7\\xae\\t4\\xb1[\\x1c\\xede\\xc5\\x0f\\\\\\xd8\\xfb\\xbaPZc\\xe6\\xce\\xba\\xa4+\\xd0\\x0e\\xeaL\\xdf\\xbc\\x96\\xa0\\xc9\\x7f\\xd4\\x15\\xac\\xf8\\xb2\\x8e\\xe5\\xbc\\x13Y\\x81\\xfd\\xd5\\xe7\\x04\\x98X\\xcd\\'\\xf6\\x91\\xde\\xcc\\xfaz\\xaa\\r\\x10\\tjh\"/}\\x92\\xae\\xd1\\xc8\\xc4i\\xaa$\\x8c\\xee\\x8f\\xcf\\xb1\\xd4[\\x19\\xd3\\xf6\\xc5\\x02\\xff \\x86 |\\x9a1fU\\xf0F\\x9a9\\xc3\\x18\\x80K;\\x9f\\x8e\\x93\\xc7\\xe9\\xef\\x87\\xd4C\\x7f\\x92\\n\\x0e{\\xe7^\\xff\\xbb\\xa7\\x19\\xefT\\xc8:B:\\xa9\\x9b\\xf1c\\x9a#7D\\xd2M!\\xe7\\x90\\x87^\\x18\\xc4\\xaf|\\xff\\xf0^D^\\x04\\xfd\\x93\"\\x95\\xe5h\\x9f$H\"\\xf7\\'\\xc8w\\x85\\xe5\\xbe\\xcco\\x0b\\xad.e\\xaa\\xe7a6\\xc6\\x11[,`\\xca.\\xc0\\x1c\\x8c\\xf2\\x19\\x04\\x0c&4[\\xd2\\xe2\\x9b\\xa4{\\xc6&yx\\xb4,\\x83Y\\xaa:\\x86\\xda\\xfd\\xfc8\\xd1\\x15\\xf0\\xe35\\x85 \\xfeQ\\xeb\\x9b\\xf70r\\xbb\\xaa\\x94-\\x9f{K\\x10\\xa2H\\xf6\"a;3\\xd1\\x9e\\xa4\\xb8,6\\n\\x83\\xcf\\xf4\"fOJ*\\x92\\xd3\\xe9:\\x7f\\xd7f\\x1e7\\x06\\x81\\x1e\\xa3\\x0b\\x82\\\\\\x18\\xd7\\xb6C\\x85(%\\x17\\n\\xe8\\x8a\\xce\\xfb\\x96#\\xbe\\xfdc{\\xf8\\x922\\x0b\\xc0\\xf9\\x95\\xe1\\xa5\\xa3\\xd5\\xe9\\xfbK\\x82\\x97T#\\xa7I'\n"
     ]
    }
   ],
   "source": [
    "from secrets import token_bytes\n",
    "\n",
    "n_bytes = 1_000\n",
    "token = token_bytes(n_bytes)\n",
    "print(f\"token bytes:\\n{token}\")"
   ]
  },
  {
   "cell_type": "markdown",
   "id": "3455fb6c-0c4e-471d-979b-5ede43f64a39",
   "metadata": {},
   "source": [
    "## Python 3.7 (Release: 2018-06-27, EOL: 2023-06-27)\n",
    "\n",
    "For full details see [What's New in Python 3.7](https://docs.python.org/3/whatsnew/3.7.html).\n",
    "\n",
    "### Major new features in 3.7\n",
    "- TODO\n",
    "\n",
    "### Improvements in 3.7\n",
    "\n",
    "- TODO"
   ]
  },
  {
   "cell_type": "code",
   "execution_count": 2,
   "id": "de5bca87-905b-4d7b-b999-6c9432d55c1b",
   "metadata": {},
   "outputs": [],
   "source": [
    "# 3.7 code"
   ]
  },
  {
   "cell_type": "markdown",
   "id": "4d1c6d65-f93e-41ac-bd81-84e1c630859c",
   "metadata": {},
   "source": [
    "## Python 3.8 (Release: 2019-10-14, EOL: 2024-10-07)\n",
    "\n",
    "For full details see [What's New in Python 3.8](https://docs.python.org/3/whatsnew/3.8.html).\n",
    "\n",
    "### Major new features in 3.8\n",
    "- TODO\n",
    "\n",
    "### Improvements in 3.8\n",
    "\n",
    "- TODO"
   ]
  },
  {
   "cell_type": "code",
   "execution_count": 3,
   "id": "50b6eaee-31e3-4b35-80ec-ec4eaff82519",
   "metadata": {},
   "outputs": [],
   "source": [
    "# 3.8 code"
   ]
  },
  {
   "cell_type": "markdown",
   "id": "8287ae88-3c28-47fd-9a9d-5a31fedcfc69",
   "metadata": {},
   "source": [
    "## Python 3.9 (Release: 2020-10-05, EOL: 2025-10)\n",
    "\n",
    "For full details see [What's New in Python 3.9](https://docs.python.org/3/whatsnew/3.9.html). Default version for Debian 11 Bullseye.\n",
    "\n",
    "### Major new features in 3.9\n",
    "- TODO\n",
    "\n",
    "### Improvements in 3.9\n",
    "\n",
    "- TODO"
   ]
  },
  {
   "cell_type": "code",
   "execution_count": 4,
   "id": "501d51fe-bfda-4b61-803b-51294c0aa05b",
   "metadata": {},
   "outputs": [],
   "source": [
    "# 3.9 code"
   ]
  },
  {
   "cell_type": "markdown",
   "id": "b572a8ae-7e96-44e0-92fd-8e02f4b3f94d",
   "metadata": {},
   "source": [
    "## Python 3.10 (Release: 2021-10-04, EOL: 2026-10)\n",
    "\n",
    "For full details see [What's New in Python 3.10](https://docs.python.org/3/whatsnew/3.10.html). Default version for Ubuntu 22.04 LTS.\n",
    "\n",
    "### Major new features in 3.10\n",
    "- TODO\n",
    "\n",
    "### Improvements in 3.10\n",
    "\n",
    "- TODO"
   ]
  },
  {
   "cell_type": "code",
   "execution_count": 5,
   "id": "2616e685-1596-43ed-870d-e42c7c28508d",
   "metadata": {},
   "outputs": [],
   "source": [
    "# 3.10 code"
   ]
  },
  {
   "cell_type": "markdown",
   "id": "0a7b5aab-0a19-46a6-bd46-3e52174551e2",
   "metadata": {},
   "source": [
    "## Python 3.11 (Release: 2022-10-24, EOL: 2027-10)\n",
    "\n",
    "For full details see [What's New in Python 3.11](https://docs.python.org/3/whatsnew/3.11.html). Default version for Debian 12 Bookworm.\n",
    "\n",
    "### Major new features in 3.11\n",
    "- TODO\n",
    "\n",
    "### Improvements in 3.11\n",
    "\n",
    "- TODO"
   ]
  },
  {
   "cell_type": "code",
   "execution_count": 6,
   "id": "62c0f20d-7947-4da9-b444-79fd6df03144",
   "metadata": {},
   "outputs": [],
   "source": [
    "# 3.11 code"
   ]
  },
  {
   "cell_type": "markdown",
   "id": "e1ff559a-df53-409b-9a8d-9eee6ff91806",
   "metadata": {},
   "source": [
    "## Python 3.12 (Release: 2023-10-02, EOL: 2028-10)\n",
    "\n",
    "For full details see [What's New in Python 3.12](https://docs.python.org/3/whatsnew/3.12.html). Default version for Ubuntu 24.04 LTS.\n",
    "\n",
    "### Major new features in 3.12\n",
    "- TODO\n",
    "\n",
    "### Improvements in 3.12\n",
    "\n",
    "- TODO"
   ]
  },
  {
   "cell_type": "code",
   "execution_count": 7,
   "id": "43c87e06-72ca-4097-ba6a-533659618ec4",
   "metadata": {},
   "outputs": [],
   "source": [
    "# 3.12 code"
   ]
  },
  {
   "cell_type": "markdown",
   "id": "b2072c1f-a857-4214-a7e5-68702e860551",
   "metadata": {},
   "source": [
    "## Python 3.13 (Release: 2024-10-07, EOL: 2029-10)\n",
    "\n",
    "For full details see [What's New in Python 3.13](https://docs.python.org/3/whatsnew/3.13.html). Default version for Debian 13 Trixie and Ubuntu 25.04.\n",
    "\n",
    "### Major new features in 3.13\n",
    "- TODO\n",
    "\n",
    "### Improvements in 3.13\n",
    "\n",
    "- TODO"
   ]
  },
  {
   "cell_type": "code",
   "execution_count": 8,
   "id": "256a38ff-4b13-4ff0-8740-91b6e6199627",
   "metadata": {},
   "outputs": [],
   "source": [
    "# 3.13 code"
   ]
  },
  {
   "cell_type": "markdown",
   "id": "415239f7-631c-4918-8a5a-000aa1e66dd9",
   "metadata": {},
   "source": [
    "## Python 3.14 (Release: 2025-10-07, EOL: 2030-10)\n",
    "\n",
    "For full details see [What's New in Python 3.14](https://docs.python.org/3.14/whatsnew/3.14.html). \n",
    "\n",
    "### Major new features in 3.14\n",
    "- TODO\n",
    "\n",
    "### Improvements in 3.14\n",
    "\n",
    "- TODO"
   ]
  },
  {
   "cell_type": "code",
   "execution_count": 9,
   "id": "aeaee6ff-1014-4378-8966-87dc70c069d7",
   "metadata": {},
   "outputs": [],
   "source": [
    "# 3.14 code"
   ]
  }
 ],
 "metadata": {
  "kernelspec": {
   "display_name": "Python 3 (ipykernel)",
   "language": "python",
   "name": "python3"
  },
  "language_info": {
   "codemirror_mode": {
    "name": "ipython",
    "version": 3
   },
   "file_extension": ".py",
   "mimetype": "text/x-python",
   "name": "python",
   "nbconvert_exporter": "python",
   "pygments_lexer": "ipython3",
   "version": "3.13.4"
  }
 },
 "nbformat": 4,
 "nbformat_minor": 5
}
