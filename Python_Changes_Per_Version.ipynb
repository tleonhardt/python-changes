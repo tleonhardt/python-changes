{
 "cells": [
  {
   "cell_type": "markdown",
   "id": "696fcc22-d72b-415f-8009-1b0b1441fec9",
   "metadata": {},
   "source": [
    "# Summary of major features and changes released with each Python version since 3.6\n",
    "\n",
    "This notebook contains a summary of major changes released with each Python version. It is opinionated based on my personal experience using each version of Python. I may skip over things I haven't personally found useful or interesting. I'm also skipping over a slew of more minor changes present in each release. I may also cover something others view as minor if I have found it useful.\n",
    "\n",
    "For a quick overview of release dates and end-of-life (EOL) dates, see the [Status of Python versions](https://devguide.python.org/versions/).\n",
    "\n",
    "For a different perspective on the same material, see the [Summary of Major Changes Between Python Versions](https://www.nicholashairs.com/posts/major-changes-between-python-versions/) blog post by Nicholas Hairs."
   ]
  },
  {
   "cell_type": "markdown",
   "id": "ebc1004f-ace6-435a-9186-ae38f8dcd5a0",
   "metadata": {},
   "source": [
    "## Python 3.6 (Release: 2016-12-23, EOL: 2021-12-23)\n",
    "\n",
    "For full details see [What's New in Python 3.6](https://docs.python.org/3/whatsnew/3.6.html). Default version for Ubuntu 18.04 LTS.\n",
    "\n",
    "### Major new features in 3.6\n",
    "\n",
    "- [Formatted string literals](https://docs.python.org/3/tutorial/inputoutput.html#formatted-string-literals) (better known as `f-strings`)\n",
    "    - A better option than `.format()` or `%` for string formatting that is more succinct, easier to read, and has better performance \n",
    "- [Underscores in numeric literals](https://docs.python.org/3/whatsnew/3.6.html#whatsnew36-pep515)\n",
    "    - Makes it easier to read large numbers\n",
    "- New [secrets](https://docs.python.org/3/library/secrets.html) library for generating cryptographically-secure random numbers\n",
    "    - Do not use `random` for generate secure random numbers\n",
    "\n",
    "### Improvements in 3.6\n",
    "\n",
    "- [Syntax for variable annotations](https://docs.python.org/3/whatsnew/3.6.html#whatsnew36-pep526)\n",
    "- New [dict implementation](https://docs.python.org/3/whatsnew/3.6.html#whatsnew36-compactdict) using 20 to 25% less memory\n",
    "- [asyncio](https://docs.python.org/3/library/asyncio.html#module-asyncio) module had a ton of improvements and is officially released; [asyncore](https://docs.python.org/3.11/library/asyncore.html) is deprecated (`asyncore` is finally removed in Python 3.12)"
   ]
  },
  {
   "cell_type": "code",
   "execution_count": 1,
   "id": "e3c6a471-355b-47fb-978b-2e0ade34d0f2",
   "metadata": {},
   "outputs": [
    {
     "name": "stdout",
     "output_type": "stream",
     "text": [
      "token bytes:\n",
      "b'z&+}\\'U\\xc3\\xcc\\x8ar\\x81\\xe1\\xa6D\\r>s?\\xc1\\x03`\\xb2\\x9bM\\xa7\\xd87\\xa3\\xc8\\x8c\\x1c\\xd7\\xe5p]X,\\xc8\\xcdq\\xcb\\x8d@\\xa6(\\xf6B\\xbd\\x8b\\xc4\\xe7\\xf5\\xe8\\xbb*\\xb5\\xea\\xf9\\xd8 \\x9dR\\xa6o\\xbam\\xc9\\xe2\\xb7\\x8fJS\\xa6x\\xf0\\xde#1A<\\xeb8\\x018\\xf7\\x8csJ\\xdc=\\x1a!dvE\\xb7\\xdb,\\x0e\\xa6x@\\xe3TRxV\\xb4\\x00\\'\\x85\\xa1\\x8d\\xed\\xae\\x84TS\\xfc\\xce\\xd2\\xd6|\\x01\\r\\xce\\xa9c\\xf3D7\\xa3\\x10\\xfd\\x8a\\x0f\\xd2\\xa9\\x90\\xe2\\xf9\\xab\\x16b\\xa1\\x99A\\xad\\x92\\x84\\xc0/\\xf1d\\xed\\xb3\\xb4\\x91?0\\xc8\\x94u\\xa8_\\x13\\xf8\"\\xb9\\xc6\\xc20\\xf8&\\x03\\xc0\\x8dmNp\\xfe\\xf3\\xcf*2<A\\xb1\\x9b\\xe0\\xdf\\x17\\x871\\x8f/5\\nN\\x8a\\xe0\"\\xb5\\x1d.i\\x9fh\\xd0-8\\xf8\\x16\\xc3\\x99\\xfd\\x99o\\x82\\xca\\xfc\\xa2k\\xac\\xfc\\xd7\\xad\\xc8X\\xcc\\x08\\xac=\\xdf\\xbe\\xa9\\xa2\\x0f\\x9a\\xbfff$WNt\\xd6_\\x916\\xcf\\xdf\\xc7\\xd0\\x82\\\\\\xb6\\xa2\\x98\\xd1\\t\\t\\xbd#\\xc2$$\\xec\\x94\\x01\\x05\\xb8\\xa4\\xbd\\xd8\\xfc\\x13\\xf82;\\xf6\\xb1?}\\xb7\\xe9_r\\xfd\\x1bJ\\r\\xb4\\xa0\"E\\xe2AG\\tU\\xb9k\\xe9L\\x00=\\x85\\xd5\\x8d\\xa4`\\xfdbm\\x82ry\\x19\\x1e\\x99&\\xed_\\xa7A\\x18q\\x9d\\x91\\x82~%\\xb8\\xc1J\\x8dH\\x1b8\\xfb\\x00\\x1c\\x9f\\xd6\\x0eQa\\x8e\\x986z\\xf5l\\xfe\\xed\\x1a_\\xfc;\\x11P?h\\xe2jP$\\xe1\\xe4\\xa6\\x8f\\xfa\\x8csq\\xc5\\x96\\xb0^\\x14\\x113\\x8b\\xc99\\rs\\xda\\n/\\xaf\\xb5=\\xf1\\x1c<\\xdd\\x1e\\xb7\\xb5\\xe0\\xe3\\x83\\x99\\xefyE\\xc2G8\\xda\\xef\\xd8CP\\xa3\\x1e\\xad\\x97\\xd3\\x9b\\xee\\x9a\\x9f\\t\\xd2o,\\x03,\\x11_&\\x8e\\x0c\\xac\\x04{\\xca\\xda\\xa7\\x88%YX\\xf5E\\x00(@\\x86\\x82\\xc0\\xf4\\x8e\\t\\xe2e\\xda\\xb8\\x8d\\xf3\\xdeQBH\\xe9\\xf3r{o\\x14>\\x10\\xff\\x80\\xad4\\xbafdu\\x83%\\x1b@,\\xc0Ip\\x00\\xdef\\xdb\\xe8\\x19\\xfe\\x85\\xdbSQ\\x9cN\\xd9\\xf3\\xb0\\xb7\\xb7o]*\\xab\\xe8\\xe9\\xed{\\xa5v\\x811\\x0f-\\xf1\\xa4\\x9d\\xf2[:E\\xa2H\\x9dT\\xb7)m\\x9fe\\xfe\\x0c\\xaeZ\\xd0\\x9fT\\xc6\\x8e\\x96\\xa1~uI\\xfe\\x94\\xd5@X\\xe6};\\xa5nuG\\xe03\\xde\\x1d\\xd2\\xbfL\\x14\\xf1\\x9a`\\x82\\xcc\\xda\\xe8(\\xf1\\xc1n\\x13\\x15\\x99\\\\(\\xde\\xeb\\xfb\\xcaJ\\xfe\\xea\\xd8o\\xee\\xcdp\\xe6\\xf7N|\\xb2&\\x93\\xcf\\xf9\\x07\\xdf\\x0c\\xfb\\xd7\\xf8`R\\xaaF1\\xf1i\\xbe\\x14\\xbc\\x90\\xf5 \\x8b\\xb7]\\xf1Q\\xa2/V0\\x93\\xfba\\xcaA\\x10bwK|\\x1a\\xb7\\x8a\\x0e\\x85\\x99\\x7f\\xa3\\x1e\\xfc\\x05n\\xf2\\x04\\xa8\\xf0\\xbc\\xb5\\xc4Q\\x95\\xc9\\xd5\\xe2\\n\\x03\\xca\\xd5\\x03\\xa1],\\xb8\\xc7\\xae\\t4\\xb1[\\x1c\\xede\\xc5\\x0f\\\\\\xd8\\xfb\\xbaPZc\\xe6\\xce\\xba\\xa4+\\xd0\\x0e\\xeaL\\xdf\\xbc\\x96\\xa0\\xc9\\x7f\\xd4\\x15\\xac\\xf8\\xb2\\x8e\\xe5\\xbc\\x13Y\\x81\\xfd\\xd5\\xe7\\x04\\x98X\\xcd\\'\\xf6\\x91\\xde\\xcc\\xfaz\\xaa\\r\\x10\\tjh\"/}\\x92\\xae\\xd1\\xc8\\xc4i\\xaa$\\x8c\\xee\\x8f\\xcf\\xb1\\xd4[\\x19\\xd3\\xf6\\xc5\\x02\\xff \\x86 |\\x9a1fU\\xf0F\\x9a9\\xc3\\x18\\x80K;\\x9f\\x8e\\x93\\xc7\\xe9\\xef\\x87\\xd4C\\x7f\\x92\\n\\x0e{\\xe7^\\xff\\xbb\\xa7\\x19\\xefT\\xc8:B:\\xa9\\x9b\\xf1c\\x9a#7D\\xd2M!\\xe7\\x90\\x87^\\x18\\xc4\\xaf|\\xff\\xf0^D^\\x04\\xfd\\x93\"\\x95\\xe5h\\x9f$H\"\\xf7\\'\\xc8w\\x85\\xe5\\xbe\\xcco\\x0b\\xad.e\\xaa\\xe7a6\\xc6\\x11[,`\\xca.\\xc0\\x1c\\x8c\\xf2\\x19\\x04\\x0c&4[\\xd2\\xe2\\x9b\\xa4{\\xc6&yx\\xb4,\\x83Y\\xaa:\\x86\\xda\\xfd\\xfc8\\xd1\\x15\\xf0\\xe35\\x85 \\xfeQ\\xeb\\x9b\\xf70r\\xbb\\xaa\\x94-\\x9f{K\\x10\\xa2H\\xf6\"a;3\\xd1\\x9e\\xa4\\xb8,6\\n\\x83\\xcf\\xf4\"fOJ*\\x92\\xd3\\xe9:\\x7f\\xd7f\\x1e7\\x06\\x81\\x1e\\xa3\\x0b\\x82\\\\\\x18\\xd7\\xb6C\\x85(%\\x17\\n\\xe8\\x8a\\xce\\xfb\\x96#\\xbe\\xfdc{\\xf8\\x922\\x0b\\xc0\\xf9\\x95\\xe1\\xa5\\xa3\\xd5\\xe9\\xfbK\\x82\\x97T#\\xa7I'\n"
     ]
    }
   ],
   "source": [
    "from secrets import token_bytes\n",
    "\n",
    "n_bytes = 1_000\n",
    "token = token_bytes(n_bytes)\n",
    "print(f\"token bytes:\\n{token}\")"
   ]
  },
  {
   "cell_type": "markdown",
   "id": "3455fb6c-0c4e-471d-979b-5ede43f64a39",
   "metadata": {},
   "source": [
    "## Python 3.7 (Release: 2018-06-27, EOL: 2023-06-27)\n",
    "\n",
    "For full details see [What's New in Python 3.7](https://docs.python.org/3/whatsnew/3.7.html). Default version for Debian 10 Buster and Ubuntu 19.04.\n",
    "\n",
    "### Major new features in 3.7\n",
    "\n",
    "- [Optional delayed evaluation of type hints](https://docs.python.org/3/whatsnew/3.7.html#whatsnew37-pep563) using `from __future__ import annotations`\n",
    "    - Instead of compiling code which executes expressions in annotations at their definition time, the compiler stores the annotation in a string form - solves lots of problems\n",
    "    - Be careful, this can break frozen dataclasses and a few other things, at least in Python 3.11 and earlier\n",
    "    - Python 3.14 adds true deferred type evaluation out of the box\n",
    "- [async](https://docs.python.org/3/reference/compound_stmts.html#async) and [await](https://docs.python.org/3/reference/expressions.html#await) are now reserved keywords\n",
    "    - This paved the way to the first Python release that really supported asyncio as a first class option for parallelism without multiple threads or processes \n",
    "- [dataclasses](https://docs.python.org/3/library/dataclasses.html) - decorator that automatically generates special methods like `__init__()`, `__repr__()`, and `__eq__()`\n",
    "    - Eliminates a good deal of boilerplate code for simple classes that are analogous to basic data structures\n",
    "    - 3rd-party [pydantic](https://docs.pydantic.dev/) library takes this to the next level with automated type validation at runtime\n",
    "\n",
    "### Improvements in 3.7\n",
    "\n",
    "- New [contextvars](https://docs.python.org/3/library/contextvars.html) module that provides APIs to manage, store, and access context-local state\n",
    "- New [importlib.resources](https://docs.python.org/3/whatsnew/3.7.html#whatsnew37-importlib-resources) module that provides several new APIs and one new ABC for access to, opening, and reading resources inside packages\n",
    "- Dictionaries are [officially delcared](https://docs.python.org/3/library/stdtypes.html#typesmapping) to preserve insertion order\n",
    "- [asyncio](https://docs.python.org/3/library/asyncio.html) module got many new features, usability and performance improvements"
   ]
  },
  {
   "cell_type": "code",
   "execution_count": 9,
   "id": "de5bca87-905b-4d7b-b999-6c9432d55c1b",
   "metadata": {},
   "outputs": [
    {
     "name": "stdout",
     "output_type": "stream",
     "text": [
      "apple=InventoryItem(name='apple', unit_price='2.51', quantity_on_hand=15)\n",
      "Total cost for all of the apples we have on hand is: $2.512.512.512.512.512.512.512.512.512.512.512.512.512.512.51\n"
     ]
    }
   ],
   "source": [
    "from dataclasses import dataclass\n",
    "\n",
    "\n",
    "@dataclass\n",
    "class InventoryItem:\n",
    "    \"\"\"Class for keeping track of an item in inventory.\"\"\"\n",
    "\n",
    "    name: str\n",
    "    unit_price: float\n",
    "    quantity_on_hand: int = 0\n",
    "\n",
    "    def total_cost(self) -> float:\n",
    "        \"\"\"Compute the total cost of all items on hand.\"\"\"\n",
    "        return self.unit_price * self.quantity_on_hand\n",
    "\n",
    "\n",
    "# Notice that data classes are \"dumb\" and don't do any type validation by default\n",
    "apple = InventoryItem(\"apple\", \"2.51\", 15)\n",
    "print(f\"{apple=}\")  # Note: I'm cheating here and using a feature from Python 3.8\n",
    "print(f\"Total cost for all of the apples we have on hand is: ${apple.total_cost()}\")"
   ]
  },
  {
   "cell_type": "code",
   "execution_count": 8,
   "id": "9b145ab2-c23e-4ecc-934c-4e909a340b2c",
   "metadata": {},
   "outputs": [
    {
     "name": "stdout",
     "output_type": "stream",
     "text": [
      "Total cost for all of the apples we have on hand is: $37.65\n"
     ]
    }
   ],
   "source": [
    "# Pydantic dataclasses are way cooler because they perform automatic type checking\n",
    "from pydantic.dataclasses import dataclass\n",
    "\n",
    "\n",
    "@dataclass\n",
    "class InventoryItem:\n",
    "    \"\"\"Class for keeping track of an item in inventory.\"\"\"\n",
    "\n",
    "    name: str\n",
    "    unit_price: float\n",
    "    quantity_on_hand: int = 0\n",
    "\n",
    "    def total_cost(self) -> float:\n",
    "        \"\"\"Compute the total cost of all items on hand.\"\"\"\n",
    "        return self.unit_price * self.quantity_on_hand\n",
    "\n",
    "\n",
    "# Notice that pydantic is smart and not only does type validation, but if it is safe will silently do type conversion\n",
    "apple = InventoryItem(\"apple\", \"2.51\", 15)\n",
    "print(f\"Total cost for all of the apples we have on hand is: ${apple.total_cost()}\")"
   ]
  },
  {
   "cell_type": "markdown",
   "id": "4d1c6d65-f93e-41ac-bd81-84e1c630859c",
   "metadata": {},
   "source": [
    "## Python 3.8 (Release: 2019-10-14, EOL: 2024-10-07)\n",
    "\n",
    "For full details see [What's New in Python 3.8](https://docs.python.org/3/whatsnew/3.8.html). Default version for Ubuntu 20.04 LTS.\n",
    "\n",
    "This release was a bit light because there was a tremendous amount of drama in the Python community over the stupid walrus operator feature. It was so bad that it actually caused a change in the governance model in the Python community.\n",
    "\n",
    "### Major new features in 3.8\n",
    "\n",
    "- [f-string = specifier](https://docs.python.org/3/whatsnew/3.8.html#f-strings-support-for-self-documenting-expressions-and-debugging)\n",
    "    - I use this syntactic sugar all the time for debugging, like I did above in the first code example for Python 3.7\n",
    "- [Assignment expressions](https://docs.python.org/3/whatsnew/3.8.html#assignment-expressions), better known as the Walrus operator `:=`\n",
    "    - There is new syntax := that assigns values to variables as part of a larger expression\n",
    "    - This should be used sparingly, but is occasionally helpful\n",
    "- [Positional-only parameters](https://docs.python.org/3/whatsnew/3.8.html#positional-only-parameters) - **I have never found a valid use for this**\n",
    "    -  There is a new function parameter syntax / to indicate that some function parameters must be specified positionally and cannot be used as keyword arguments\n",
    "      \n",
    "### Improvements in 3.8\n",
    "\n",
    "- New [importlib.metadata](https://docs.python.org/3/library/importlib.metadata.html) module that provides access to the metadata of an installed Distribution Package\n",
    "- [typing](https://docs.python.org/3/whatsnew/3.8.html#typing) module improvements\n",
    "    - [TypedDict](https://docs.python.org/3/library/typing.html#typing.TypedDict) - declares a dictionary type that expects all of its instances to have a certain set of keys, where each key is associated with a value of a consistent type\n",
    "    - [Literal](https://docs.python.org/3/library/typing.html#typing.Literal) - Literal types indicate that a parameter or return value is constrained to one or more specific literal values:\n",
    "    - [Final](https://docs.python.org/3/library/typing.html#typing.Final) - Final names cannot be reassigned in any scope (**immutable variables for Python, if you use a type checker**)\n",
    "    - [Protocol](https://docs.python.org/3/library/typing.html#typing.Protocol) - Protocol classes are primarily used with static type checkers that recognize structural subtyping (static duck-typing) - analagous to traits in Rust"
   ]
  },
  {
   "cell_type": "code",
   "execution_count": 10,
   "id": "50b6eaee-31e3-4b35-80ec-ec4eaff82519",
   "metadata": {},
   "outputs": [
    {
     "name": "stdout",
     "output_type": "stream",
     "text": [
      "List a=[1, 2, 3, 4] has 4 elements\n"
     ]
    }
   ],
   "source": [
    "a = [1, 2, 3, 4]\n",
    "if (n := len(a)) > 10:\n",
    "    print(f\"List is too long ({n} elements, expected <= 10)\")\n",
    "else:\n",
    "    print(f\"List {a=} has {n} elements\")"
   ]
  },
  {
   "cell_type": "code",
   "execution_count": 17,
   "id": "b2ee7d9c-e92f-40b8-afac-2a34942e878d",
   "metadata": {},
   "outputs": [
    {
     "name": "stdout",
     "output_type": "stream",
     "text": [
      "MAX_SIZE=9001\n"
     ]
    }
   ],
   "source": [
    "from typing import Final\n",
    "\n",
    "MAX_SIZE: Final = 9000\n",
    "MAX_SIZE += 1  # Error reported by type checker, but not at runtime\n",
    "print(f\"{MAX_SIZE=}\")"
   ]
  },
  {
   "cell_type": "code",
   "execution_count": 16,
   "id": "5fbc275e-eb9a-430a-a212-6412425fcd6c",
   "metadata": {},
   "outputs": [
    {
     "data": {
      "text/plain": [
       "0"
      ]
     },
     "execution_count": 16,
     "metadata": {},
     "output_type": "execute_result"
    }
   ],
   "source": [
    "from typing import Protocol\n",
    "\n",
    "\n",
    "class Proto(Protocol):\n",
    "    def meth(self) -> int: ...\n",
    "\n",
    "\n",
    "class C:\n",
    "    def meth(self) -> int:\n",
    "        return 0\n",
    "\n",
    "\n",
    "def func(x: Proto) -> int:\n",
    "    return x.meth()\n",
    "\n",
    "\n",
    "func(C())  # Passes static type check"
   ]
  },
  {
   "cell_type": "markdown",
   "id": "8287ae88-3c28-47fd-9a9d-5a31fedcfc69",
   "metadata": {},
   "source": [
    "## Python 3.9 (Release: 2020-10-05, EOL: 2025-10)\n",
    "\n",
    "For full details see [What's New in Python 3.9](https://docs.python.org/3/whatsnew/3.9.html). Default version for Debian 11 Bullseye and Ubuntu 21.04.\n",
    "\n",
    "A lot of this release focused implementing a new parser in the interpreter in order to enable big features in future releases.\n",
    "\n",
    "### Major new features in 3.9\n",
    "\n",
    "- [Type hinting generics in standard collections](https://docs.python.org/3/whatsnew/3.9.html#type-hinting-generics-in-standard-collections)\n",
    "    - You can now use built-in collection types such as `list` and `dict` as generic types instead of importing the corresponding capitalized types (e.g. `List` or `Dict`) from `typing`\n",
    "- [Dictionary Merge and Update Operators](https://docs.python.org/3/whatsnew/3.9.html#dictionary-merge-update-operators)\n",
    "    - Merge (`|`) and update (`|=`) operators have been added to the built-in `dict` class as syntactic sugar for merging two dictionaries\n",
    "- [New string methods to remove prefixes and suffixes](https://docs.python.org/3/whatsnew/3.9.html#new-string-methods-to-remove-prefixes-and-suffixes)\n",
    "    - [str.removeprefix(prefix)](https://docs.python.org/3/library/stdtypes.html#str.removeprefix) and [str.removesuffix(suffix)](https://docs.python.org/3/library/stdtypes.html#str.removesuffix) have been added to easily remove an unneeded prefix or a suffix from a string.\n",
    "\n",
    "### Improvements in 3.9\n",
    "\n",
    "- python added `-W` command-line option to [view deprecation warnings](https://docs.python.org/3/whatsnew/3.9.html#you-should-check-for-deprecationwarning-in-your-code)\n",
    "    - Use `python -W default` to view deprecation warnings\n",
    "    - Use `python -W error` to treat warnings as errors\n",
    "- New [zoneinfo](https://docs.python.org/3/library/zoneinfo.html) module provides a concrete time zone implementation to support the IANA time zone database\n",
    "    - Used by the `datetime` module for specifiying timezone info\n",
    "- New [graphlib](https://docs.python.org/3/library/graphlib.html) module provides functionality to topologically sort a graph of hashable nodes"
   ]
  },
  {
   "cell_type": "code",
   "execution_count": 21,
   "id": "501d51fe-bfda-4b61-803b-51294c0aa05b",
   "metadata": {},
   "outputs": [
    {
     "data": {
      "text/plain": [
       "{'key1': 'value1 from x', 'key2': 'value2 from y', 'key3': 'value3 from y'}"
      ]
     },
     "execution_count": 21,
     "metadata": {},
     "output_type": "execute_result"
    }
   ],
   "source": [
    "x = {\"key1\": \"value1 from x\", \"key2\": \"value2 from x\"}\n",
    "y = {\"key2\": \"value2 from y\", \"key3\": \"value3 from y\"}\n",
    "x | y"
   ]
  },
  {
   "cell_type": "code",
   "execution_count": 23,
   "id": "9bc2b9cd-99ab-423e-a4b1-b89adf7c72fc",
   "metadata": {},
   "outputs": [
    {
     "name": "stdout",
     "output_type": "stream",
     "text": [
      "Hello Todd Leonhardt\n",
      "Hello John Doe\n"
     ]
    }
   ],
   "source": [
    "def greet_all(names: list[str]) -> None:\n",
    "    for name in names:\n",
    "        print(\"Hello\", name.removeprefix(\"Mr. \"))\n",
    "\n",
    "\n",
    "names = [\"Mr. Todd Leonhardt\", \"John Doe\"]\n",
    "\n",
    "greet_all(names)"
   ]
  },
  {
   "cell_type": "markdown",
   "id": "b572a8ae-7e96-44e0-92fd-8e02f4b3f94d",
   "metadata": {},
   "source": [
    "## Python 3.10 (Release: 2021-10-04, EOL: 2026-10)\n",
    "\n",
    "For full details see [What's New in Python 3.10](https://docs.python.org/3/whatsnew/3.10.html). Default version for Ubuntu 22.04 LTS.\n",
    "\n",
    "Structural pattern matching is one of the single biggest features ever added to the Python language. On the surface it just seems like a standard switch/case. But once you really understand it, it is a **LOT** more powerful than a switch/case style match in amost any other language than Rust.\n",
    "\n",
    "### Major new features in 3.10\n",
    "\n",
    "- [Structural Pattern Matching](https://docs.python.org/3/whatsnew/3.10.html#pep-634-structural-pattern-matching) - similar to Rust's `match`, like a switch/case on steroids\n",
    "    - Structural pattern matching has been added in the form of a `match` statement and `case` statements of patterns with associated actions\n",
    "    - Patterns consist of sequences, mappings, primitive data types as well as class instances\n",
    "    - Pattern matching enables programs to extract information from complex data types, branch on the structure of data, and apply specific actions based on different forms of data\n",
    "- [Parenthesized context managers](https://docs.python.org/3/whatsnew/3.10.html#parenthesized-context-managers)\n",
    "    - Using enclosing parentheses for continuation across multiple lines in context managers is now supported\n",
    "    - This allows formatting a long collection of context managers in multiple lines\n",
    "    - Lets you have a single with using multiple context managers in a single context instead of having to nest context managers\n",
    "- [Better error messages](https://docs.python.org/3/whatsnew/3.10.html#better-error-messages)\n",
    "    - The interpreter now provides error messages with more context to help identify the exact location within a line where the exception happened\n",
    "\n",
    "### Improvements in 3.10\n",
    "\n",
    "- The built-in [zip](https://docs.python.org/3/library/functions.html#zip) function adds optional length-checking via the optional `strict` boolean keyword parameter\n",
    "    - When enabled, a `ValueError` is raised if one of the arguments is exhausted before the others\n",
    "- [Precise line numbering for debugging](https://docs.python.org/3/whatsnew/3.10.html#pep-626-precise-line-numbers-for-debugging-and-other-tools)\n",
    "    - More precise and reliable line numbers for debugging, profiling and coverage tools\n",
    "- [New features related to type hints](https://docs.python.org/3/whatsnew/3.10.html#new-features-related-to-type-hints)\n",
    "    -  A new [type union operator](https://docs.python.org/3/whatsnew/3.10.html#pep-604-new-type-union-operator) was introduced which enables the syntax `X | Y`\n",
    "    -  [Parameter specification variables](https://docs.python.org/3/whatsnew/3.10.html#pep-612-parameter-specification-variables) are used to forward the parameter types of one callable to another callable\n",
    "    -  Explicit [Type Aliases](https://docs.python.org/3/whatsnew/3.10.html#pep-613-typealias)\n",
    "    -  [User-Defined Type Guards](https://docs.python.org/3/whatsnew/3.10.html#pep-647-user-defined-type-guards)"
   ]
  },
  {
   "cell_type": "code",
   "execution_count": 57,
   "id": "2616e685-1596-43ed-870d-e42c7c28508d",
   "metadata": {},
   "outputs": [
    {
     "name": "stdout",
     "output_type": "stream",
     "text": [
      "X=1 and the point is on the x-axis.\n"
     ]
    }
   ],
   "source": [
    "from dataclasses import dataclass\n",
    "\n",
    "\n",
    "@dataclass\n",
    "class Point:\n",
    "    x: int | float\n",
    "    y: int | float\n",
    "\n",
    "\n",
    "def location(point: Point) -> None:\n",
    "    match point:\n",
    "        case Point(x=0, y=0):\n",
    "            print(\"Origin is the point's location.\")\n",
    "        case Point(x=0, y=y):\n",
    "            print(f\"Y={y} and the point is on the y-axis.\")\n",
    "        case Point(x=x, y=0):\n",
    "            print(f\"X={x} and the point is on the x-axis.\")\n",
    "        case Point(x, y) if x == y or x == -y:\n",
    "            diagonal = \"positive\" if x / y > 0 else \"negative\"\n",
    "            print(f\"The point is located on the {diagonal} diagonal at ({x}, {y}).\")\n",
    "        case Point():\n",
    "            print(\"The point is located somewhere else on the plane.\")\n",
    "        case _:\n",
    "            print(\"Not a point\")\n",
    "\n",
    "\n",
    "p = Point(1, 0)\n",
    "location(p)"
   ]
  },
  {
   "cell_type": "markdown",
   "id": "0a7b5aab-0a19-46a6-bd46-3e52174551e2",
   "metadata": {},
   "source": [
    "## Python 3.11 (Release: 2022-10-24, EOL: 2027-10)\n",
    "\n",
    "For full details see [What's New in Python 3.11](https://docs.python.org/3/whatsnew/3.11.html). Default version for Debian 12 Bookworm.\n",
    "\n",
    "This release was primiarly focused on improving performance and the actual features released are underwhelming. But the performance boost is legit and noticeable.\n",
    "\n",
    "### Major new features in 3.11\n",
    "\n",
    "- Python 3.11 is between 10-60% faster than Python 3.10. [On average](https://docs.python.org/3/whatsnew/3.11.html#whatsnew311-faster-cpython) it is 25% faster\n",
    "    - [Faster startup](https://docs.python.org/3/whatsnew/3.11.html#whatsnew311-faster-startup) - interpreter startup is now 10-15% faster in Python 3.11\n",
    "    - [Faster runtime performance](https://docs.python.org/3/whatsnew/3.11.html#whatsnew311-faster-runtime)\n",
    "    - Numerous [other optimizations](https://docs.python.org/3/whatsnew/3.11.html#whatsnew311-optimizations)\n",
    "- [Exception Groups](https://docs.python.org/3/whatsnew/3.11.html#whatsnew311-pep654) enable a program to raise and handle multiple unrelated exceptions simultaneously\n",
    "- [Exceptions can be enriched with notes](https://docs.python.org/3/whatsnew/3.11.html#pep-678-exceptions-can-be-enriched-with-notes)\n",
    "    - The `add_note()` method is added to `BaseException`, it can be used to enrich exceptions with context information that is not available at the time when the exception is raised\n",
    "    - The added notes appear in the default traceback\n",
    "\n",
    "### Improvements in 3.11\n",
    "\n",
    "- New [tomllib](https://docs.python.org/3/library/tomllib.html) module adds support for parsing [TOML](https://toml.io/)\n",
    "- [Fine-grained](https://docs.python.org/3/whatsnew/3.11.html#pep-657-fine-grained-error-locations-in-tracebacks) error locations in tracebacks\n",
    "- New typing features\n",
    "    - [Variadic generics](https://docs.python.org/3/whatsnew/3.11.html#whatsnew311-pep646)\n",
    "    - [Marking individual TypedDict items as required or not required](https://docs.python.org/3/whatsnew/3.11.html#whatsnew311-pep655)\n",
    "    - The new [Self](https://docs.python.org/3/library/typing.html#typing.Self) annotation provides a simple and intuitive way to annotate methods that return an instance of their class\n",
    "    - [Arbitrary literal string type](https://docs.python.org/3/whatsnew/3.11.html#whatsnew311-pep675)\n",
    "    - [Dataclass transforms](https://docs.python.org/3/whatsnew/3.11.html#whatsnew311-pep681)"
   ]
  },
  {
   "cell_type": "code",
   "execution_count": 59,
   "id": "d4fa81e0-27cb-45fa-b3b4-e0e69d1c2a1c",
   "metadata": {},
   "outputs": [
    {
     "ename": "ValueError",
     "evalue": "Invalid value",
     "output_type": "error",
     "traceback": [
      "\u001b[31m---------------------------------------------------------------------------\u001b[39m",
      "\u001b[31mValueError\u001b[39m                                Traceback (most recent call last)",
      "\u001b[36mCell\u001b[39m\u001b[36m \u001b[39m\u001b[32mIn[59]\u001b[39m\u001b[32m, line 2\u001b[39m\n\u001b[32m      1\u001b[39m \u001b[38;5;28;01mtry\u001b[39;00m:\n\u001b[32m----> \u001b[39m\u001b[32m2\u001b[39m     \u001b[38;5;28;01mraise\u001b[39;00m \u001b[38;5;167;01mValueError\u001b[39;00m(\u001b[33m\"\u001b[39m\u001b[33mInvalid value\u001b[39m\u001b[33m\"\u001b[39m)\n\u001b[32m      3\u001b[39m \u001b[38;5;28;01mexcept\u001b[39;00m \u001b[38;5;167;01mValueError\u001b[39;00m \u001b[38;5;28;01mas\u001b[39;00m e:\n\u001b[32m      4\u001b[39m     e.add_note(\u001b[33m\"\u001b[39m\u001b[33mThis is a custom note explaining the error.\u001b[39m\u001b[33m\"\u001b[39m)\n",
      "\u001b[31mValueError\u001b[39m: Invalid value",
      "This is a custom note explaining the error."
     ]
    }
   ],
   "source": [
    "try:\n",
    "    raise ValueError(\"Invalid value\")\n",
    "except ValueError as e:\n",
    "    e.add_note(\"This is a custom note explaining the error.\")\n",
    "    raise"
   ]
  },
  {
   "cell_type": "code",
   "execution_count": 58,
   "id": "62c0f20d-7947-4da9-b444-79fd6df03144",
   "metadata": {},
   "outputs": [
    {
     "name": "stderr",
     "output_type": "stream",
     "text": [
      "Runtime type is 'SubclassOfFoo'\n"
     ]
    },
    {
     "data": {
      "text/plain": [
       "<__main__.SubclassOfFoo at 0x10cd51be0>"
      ]
     },
     "execution_count": 58,
     "metadata": {},
     "output_type": "execute_result"
    }
   ],
   "source": [
    "from typing import Self, reveal_type\n",
    "\n",
    "\n",
    "class Foo:\n",
    "    def return_self(self) -> Self:\n",
    "        return self\n",
    "\n",
    "\n",
    "class SubclassOfFoo(Foo):\n",
    "    pass\n",
    "\n",
    "\n",
    "# reveal_type(Foo().return_self())  # Revealed type is \"Foo\"\n",
    "reveal_type(SubclassOfFoo().return_self())  # Revealed type is \"SubclassOfFoo\""
   ]
  },
  {
   "cell_type": "markdown",
   "id": "e1ff559a-df53-409b-9a8d-9eee6ff91806",
   "metadata": {},
   "source": [
    "## Python 3.12 (Release: 2023-10-02, EOL: 2028-10)\n",
    "\n",
    "For full details see [What's New in Python 3.12](https://docs.python.org/3/whatsnew/3.12.html). Default version for Ubuntu 24.04 LTS.\n",
    "\n",
    "This release focused on cleaning up deprecated stuff in the standard library.\n",
    "\n",
    "### Major new features in 3.12\n",
    "\n",
    "- Removed modules\n",
    "    - [distutils](https://docs.python.org/3/library/distutils.html) package removed from the standard library - use 3rd-party [setuptools](https://pypi.org/project/setuptools/) instead\n",
    "    - [asynchat](https://docs.python.org/3.11/library/asynchat.html) and [asyncore](https://docs.python.org/3.11/library/asyncore.html) both removed - use [asyncio](https://docs.python.org/3/library/asyncio.html) instead\n",
    "    - [imp](https://docs.python.org/3.10/library/imp.html) - use [importlib](https://docs.python.org/3/library/importlib.html) instead\n",
    "    - Various other deprecated names, attributes, and functions have been [removed](https://docs.python.org/3/whatsnew/3.12.html#removed) from other modules\n",
    "- [Type parameter syntax](https://docs.python.org/3/whatsnew/3.12.html#pep-695-type-parameter-syntax) introduces a new, more compact and explicit way to create generic classes and functions\n",
    "- [Syntactic formalization of f-strings](https://docs.python.org/3/whatsnew/3.12.html#pep-701-syntactic-formalization-of-f-strings) - expression components inside f-strings can now be any valid Python expression\n",
    "\n",
    "### Improvements in 3.12\n",
    "\n",
    "- Filesystem support in [os](https://docs.python.org/3/library/os.html) and [pathlib](https://docs.python.org/3/library/pathlib.html) has seen a number of improvements\n",
    "- Introduces a [per-interpreter GIL](https://docs.python.org/3/whatsnew/3.12.html#pep-684-a-per-interpreter-gil), so that sub-interpreters may now be created with a unique [GIL](https://docs.python.org/3/glossary.html#term-global-interpreter-lock) per interpreter\n",
    "- A new API which allows [low-impact monitoring](https://docs.python.org/3/whatsnew/3.12.html#pep-669-low-impact-monitoring-for-cpython) for profilers, debuggers, and other tools to monitor events in CPython"
   ]
  },
  {
   "cell_type": "code",
   "execution_count": 69,
   "id": "43c87e06-72ca-4097-ba6a-533659618ec4",
   "metadata": {},
   "outputs": [
    {
     "name": "stdout",
     "output_type": "stream",
     "text": [
      "2 squared = 4\n",
      "2.5 squared = 6.25\n"
     ]
    },
    {
     "ename": "TypeError",
     "evalue": "can't multiply sequence by non-int of type 'str'",
     "output_type": "error",
     "traceback": [
      "\u001b[31m---------------------------------------------------------------------------\u001b[39m",
      "\u001b[31mTypeError\u001b[39m                                 Traceback (most recent call last)",
      "\u001b[36mCell\u001b[39m\u001b[36m \u001b[39m\u001b[32mIn[69]\u001b[39m\u001b[32m, line 17\u001b[39m\n\u001b[32m     15\u001b[39m \u001b[38;5;28mprint\u001b[39m(\u001b[33mf\u001b[39m\u001b[33m\"\u001b[39m\u001b[38;5;132;01m{\u001b[39;00mx\u001b[38;5;132;01m}\u001b[39;00m\u001b[33m squared = \u001b[39m\u001b[38;5;132;01m{\u001b[39;00msquare(x)\u001b[38;5;132;01m}\u001b[39;00m\u001b[33m\"\u001b[39m)\n\u001b[32m     16\u001b[39m \u001b[38;5;28mprint\u001b[39m(\u001b[33mf\u001b[39m\u001b[33m\"\u001b[39m\u001b[38;5;132;01m{\u001b[39;00my\u001b[38;5;132;01m}\u001b[39;00m\u001b[33m squared = \u001b[39m\u001b[38;5;132;01m{\u001b[39;00msquare(y)\u001b[38;5;132;01m}\u001b[39;00m\u001b[33m\"\u001b[39m)\n\u001b[32m---> \u001b[39m\u001b[32m17\u001b[39m \u001b[38;5;28mprint\u001b[39m(\u001b[33mf\u001b[39m\u001b[33m\"\u001b[39m\u001b[38;5;132;01m{\u001b[39;00mz\u001b[38;5;132;01m}\u001b[39;00m\u001b[33m squared = \u001b[39m\u001b[38;5;132;01m{\u001b[39;00m\u001b[43msquare\u001b[49m\u001b[43m(\u001b[49m\u001b[43mz\u001b[49m\u001b[43m)\u001b[49m\u001b[38;5;132;01m}\u001b[39;00m\u001b[33m\"\u001b[39m) \u001b[38;5;66;03m# Note that this will crash at runtime with a TypeError\u001b[39;00m\n",
      "\u001b[36mCell\u001b[39m\u001b[36m \u001b[39m\u001b[32mIn[69]\u001b[39m\u001b[32m, line 9\u001b[39m, in \u001b[36msquare\u001b[39m\u001b[34m(number)\u001b[39m\n\u001b[32m      7\u001b[39m \u001b[38;5;28;01mdef\u001b[39;00m\u001b[38;5;250m \u001b[39m\u001b[34msquare\u001b[39m(number: T) -> T:\n\u001b[32m      8\u001b[39m \u001b[38;5;250m    \u001b[39m\u001b[33;03m\"\"\"This function uses a TypeVar to restr.\"\"\"\u001b[39;00m\n\u001b[32m----> \u001b[39m\u001b[32m9\u001b[39m     \u001b[38;5;28;01mreturn\u001b[39;00m \u001b[43mnumber\u001b[49m\u001b[43m \u001b[49m\u001b[43m*\u001b[49m\u001b[43m \u001b[49m\u001b[43mnumber\u001b[49m\n",
      "\u001b[31mTypeError\u001b[39m: can't multiply sequence by non-int of type 'str'"
     ]
    }
   ],
   "source": [
    "from numbers import Number\n",
    "from typing import TypeVar\n",
    "\n",
    "T = TypeVar(\"T\", bound=Number)\n",
    "\n",
    "\n",
    "def square(number: T) -> T:\n",
    "    \"\"\"This function uses a TypeVar to restr.\"\"\"\n",
    "    return number * number\n",
    "\n",
    "\n",
    "x = 2\n",
    "y = 2.5\n",
    "z = \"2.7\"\n",
    "print(f\"{x} squared = {square(x)}\")\n",
    "print(f\"{y} squared = {square(y)}\")\n",
    "print(f\"{z} squared = {square(z)}\")  # Note that this will crash at runtime with a TypeError"
   ]
  },
  {
   "cell_type": "code",
   "execution_count": 75,
   "id": "fb7981e6-481a-47e9-a765-dc8e30883a1f",
   "metadata": {},
   "outputs": [
    {
     "name": "stdout",
     "output_type": "stream",
     "text": [
      "5\n",
      "1 validation error for MyModel\n",
      "my_int\n",
      "  Input should be less than or equal to 10 [type=less_than_equal, input_value=12, input_type=int]\n",
      "    For further information visit https://errors.pydantic.dev/2.11/v/less_than_equal\n"
     ]
    }
   ],
   "source": [
    "# Libraries like pydantic allow you to add metadata to type hints, including constraints\n",
    "from typing import Annotated\n",
    "\n",
    "from pydantic import BaseModel, Field, ValidationError\n",
    "\n",
    "\n",
    "class MyModel(BaseModel):\n",
    "    # This forces this field to be an int betwee [0,10]\n",
    "    my_int: Annotated[int, Field(ge=0, le=10)]\n",
    "\n",
    "\n",
    "# Example usage:\n",
    "my_model = MyModel(my_int=5)\n",
    "print(my_model.my_int)\n",
    "\n",
    "try:\n",
    "    my_model = MyModel(my_int=12)\n",
    "except ValidationError as e:\n",
    "    print(e)"
   ]
  },
  {
   "cell_type": "markdown",
   "id": "b2072c1f-a857-4214-a7e5-68702e860551",
   "metadata": {},
   "source": [
    "## Python 3.13 (Release: 2024-10-07, EOL: 2029-10)\n",
    "\n",
    "For full details see [What's New in Python 3.13](https://docs.python.org/3/whatsnew/3.13.html). Default version for Debian 13 Trixie and Ubuntu 25.04.\n",
    "\n",
    "This release focused on providing a better default python shell and adding experimental support for features which wil likely lead to major performance improvements in a future release of Python. If you aren't using the new python interactive interpreter or one of the new experimental versions, you likely won't notice much beyond tracebacks in color.\n",
    "\n",
    "### Major new features in 3.13\n",
    "- A new and better [interactive interpreter shell](https://docs.python.org/3/whatsnew/3.13.html#whatsnew313-better-interactive-interpreter) - still not as good as [ipython](https://ipython.org/)\n",
    "    - Multiline editing with history preservation\n",
    "    - Direct support for REPL-specific commands like help, exit, and quit, without the need to call them as functions\n",
    "    - Prompts and tracebacks with [color enabled by default](https://docs.python.org/3/using/cmdline.html#using-on-controlling-color)\n",
    "- Experimental support for running in a [free-threaded mode](https://docs.python.org/3/whatsnew/3.13.html#whatsnew313-free-threaded-cpython)\n",
    "    - With the global interpreter lock (GIL) disabled\n",
    "    - This is an experimental feature and therefore is not enabled by default\n",
    "    - The free-threaded mode requires a different executable, usually called `python3.13t` or `python3.13t.exe`\n",
    "- Experimental support for a [just-in-time (JIT) compiler](https://docs.python.org/3/whatsnew/3.13.html#whatsnew313-jit-compiler)\n",
    "    - When CPython is configured and built using the --enable-experimental-jit option, a just-in-time (JIT) compiler is added\n",
    "    - May speed up some Python programs \n",
    "\n",
    "### Improvements in 3.13\n",
    "\n",
    "- [Improved error messages](https://docs.python.org/3/whatsnew/3.13.html#improved-error-messages) - tracebacks now highlighted in color by default\n",
    "- The [locals()](https://docs.python.org/3/library/functions.html#locals) builtin now has [defined semantics](https://docs.python.org/3/whatsnew/3.13.html#whatsnew313-locals-semantics) for changing the returned mapping\n",
    "- Type parameters (`typing.TypeVar`, `typing.ParamSpec`, and `typing.TypeVarTuple`) now support [default values](https://peps.python.org/pep-0696/)"
   ]
  },
  {
   "cell_type": "code",
   "execution_count": 82,
   "id": "256a38ff-4b13-4ff0-8740-91b6e6199627",
   "metadata": {},
   "outputs": [
    {
     "ename": "ZeroDivisionError",
     "evalue": "division by zero",
     "output_type": "error",
     "traceback": [
      "\u001b[31m---------------------------------------------------------------------------\u001b[39m",
      "\u001b[31mZeroDivisionError\u001b[39m                         Traceback (most recent call last)",
      "\u001b[36mCell\u001b[39m\u001b[36m \u001b[39m\u001b[32mIn[82]\u001b[39m\u001b[32m, line 10\u001b[39m\n\u001b[32m      6\u001b[39m     \u001b[38;5;28;01mreturn\u001b[39;00m x / \u001b[32m0\u001b[39m\n\u001b[32m      9\u001b[39m \u001b[38;5;66;03m# Observe the glorious color in the traceback message\u001b[39;00m\n\u001b[32m---> \u001b[39m\u001b[32m10\u001b[39m \u001b[43mmy_function\u001b[49m\u001b[43m(\u001b[49m\u001b[32;43m1\u001b[39;49m\u001b[43m)\u001b[49m\n",
      "\u001b[36mCell\u001b[39m\u001b[36m \u001b[39m\u001b[32mIn[82]\u001b[39m\u001b[32m, line 6\u001b[39m, in \u001b[36mmy_function\u001b[39m\u001b[34m(x)\u001b[39m\n\u001b[32m      4\u001b[39m \u001b[38;5;28;01mdef\u001b[39;00m\u001b[38;5;250m \u001b[39m\u001b[34mmy_function\u001b[39m(x: \u001b[38;5;28mint\u001b[39m) -> Never:\n\u001b[32m      5\u001b[39m \u001b[38;5;250m    \u001b[39m\u001b[33;03m\"\"\"This function will cause a ZeroDivisionError.\"\"\"\u001b[39;00m\n\u001b[32m----> \u001b[39m\u001b[32m6\u001b[39m     \u001b[38;5;28;01mreturn\u001b[39;00m \u001b[43mx\u001b[49m\u001b[43m \u001b[49m\u001b[43m/\u001b[49m\u001b[43m \u001b[49m\u001b[32;43m0\u001b[39;49m\n",
      "\u001b[31mZeroDivisionError\u001b[39m: division by zero"
     ]
    }
   ],
   "source": [
    "from typing import Never\n",
    "\n",
    "\n",
    "def my_function(x: int) -> Never:\n",
    "    \"\"\"This function will cause a ZeroDivisionError.\"\"\"\n",
    "    return x / 0\n",
    "\n",
    "\n",
    "# Observe the glorious color in the traceback message\n",
    "my_function(1)"
   ]
  },
  {
   "cell_type": "markdown",
   "id": "415239f7-631c-4918-8a5a-000aa1e66dd9",
   "metadata": {},
   "source": [
    "## Python 3.14 (Release: 2025-10-07, EOL: 2030-10)\n",
    "\n",
    "For full details see [What's New in Python 3.14](https://docs.python.org/3.14/whatsnew/3.14.html). The release that puts the π in Python 😀\n",
    "\n",
    "There is a **TON** in this release. They really went all out for the pi release. This summary can't even begin to do this release justice.\n",
    "\n",
    "This release is currently in early beta testing and isn't yet fully stable. Hence, it is not at all recommended for production use.\n",
    "\n",
    "### Major new features in 3.14\n",
    "\n",
    "- [Template string](https://docs.python.org/3.14/whatsnew/3.14.html#pep-750-template-strings) literals (t-strings) are a generalization of f-strings, using a `t` in place of the `f` prefix\n",
    "    - Instead of evaluating to `str`, t-strings evaluate to a new `string.templatelib.Template` type\n",
    "    - The template can then be combined with functions that operate on the template’s structure to produce a `str` or a string-like result, for example a sanitized version\n",
    "    - Compared to using an f-string, the function operating on it has access to template attributes containing the original information: static strings, interpolations, and values from the original scope\n",
    "- [Deferred evaluation of annotations](https://docs.python.org/3.14/whatsnew/3.14.html#pep-649-and-749-deferred-evaluation-of-annotations)\n",
    "    - The [annotations](https://docs.python.org/3.14/glossary.html#term-annotation) on functions, classes, and modules are no longer evaluated eagerly\n",
    "    - Instead, annotations are stored in special-purpose [annotate functions](https://docs.python.org/3.14/glossary.html#term-annotate-function) and evaluated only when necessary\n",
    "    - This change is designed to make annotations in Python more performant and more usable in most circumstances\n",
    "- A [new type of interpreter](https://docs.python.org/3.14/whatsnew/3.14.html#whatsnew314-tail-call) that uses tail calls between small C functions that implement individual Python opcodes\n",
    "    - For certain newer compilers, this interpreter provides significantly better performance\n",
    "    - Preliminary numbers suggest anywhere up to 30% faster Python code, and a geometric mean of 3-5% faster on pyperformance depending on platform and architecture\n",
    "    - This interpreter currently only works with Clang 19 and newer on x86-64 and AArch64 architectures; however, we expect that a future release of GCC will support this as well\n",
    "\n",
    "### Improvements in 3.14\n",
    "\n",
    "- New [annotationlib](https://docs.python.org/3.14/library/annotationlib.html) module provides tools for inspecting deferred annotations\n",
    "- New [compression.zstd](https://docs.python.org/3.14/library/compression.zstd.html) module for [Zstandard](https://github.com/facebook/zstd) support\n",
    "- [Syntax highlighting in PyREPL](https://docs.python.org/3.14/whatsnew/3.14.html#whatsnew314-pyrepl-highlighting), and color output in [unittest](https://docs.python.org/3.14/whatsnew/3.14.html#whatsnew314-color-unittest), [argparse](https://docs.python.org/3.14/whatsnew/3.14.html#whatsnew314-color-argparse), [json](https://docs.python.org/3.14/whatsnew/3.14.html#whatsnew314-color-json) and [calendar](https://docs.python.org/3.14/whatsnew/3.14.html#whatsnew314-color-calendar) modules"
   ]
  },
  {
   "cell_type": "code",
   "execution_count": 83,
   "id": "aeaee6ff-1014-4378-8966-87dc70c069d7",
   "metadata": {},
   "outputs": [
    {
     "ename": "SyntaxError",
     "evalue": "invalid syntax (4063465484.py, line 14)",
     "output_type": "error",
     "traceback": [
      "  \u001b[36mCell\u001b[39m\u001b[36m \u001b[39m\u001b[32mIn[83]\u001b[39m\u001b[32m, line 14\u001b[39m\n\u001b[31m    \u001b[39m\u001b[31massert lower_upper(t\"HELLO {name}\") == \"hello WORLD\"\u001b[39m\n                        ^\n\u001b[31mSyntaxError\u001b[39m\u001b[31m:\u001b[39m invalid syntax\n"
     ]
    }
   ],
   "source": [
    "# This requires Python 3.14 or newer\n",
    "from string.templatelib import Interpolation, Template\n",
    "\n",
    "\n",
    "def lower_upper(template: Template) -> str:\n",
    "    \"\"\"Render static parts lowercased and interpolations uppercased.\"\"\"\n",
    "    parts: list[str] = []\n",
    "    for item in template:\n",
    "        if isinstance(item, Interpolation):\n",
    "            parts.append(str(item.value).upper())\n",
    "        else:\n",
    "            parts.append(item.lower())\n",
    "    return \"\".join(parts)\n",
    "\n",
    "\n",
    "name = \"world\"\n",
    "assert lower_upper(t\"HELLO {name}\") == \"hello WORLD\""
   ]
  },
  {
   "cell_type": "code",
   "execution_count": null,
   "id": "27e1ac71-bed4-4c1b-8809-39bf13fd7c18",
   "metadata": {},
   "outputs": [],
   "source": []
  }
 ],
 "metadata": {
  "kernelspec": {
   "display_name": "Python 3 (ipykernel)",
   "language": "python",
   "name": "python3"
  },
  "language_info": {
   "codemirror_mode": {
    "name": "ipython",
    "version": 3
   },
   "file_extension": ".py",
   "mimetype": "text/x-python",
   "name": "python",
   "nbconvert_exporter": "python",
   "pygments_lexer": "ipython3",
   "version": "3.13.4"
  }
 },
 "nbformat": 4,
 "nbformat_minor": 5
}
